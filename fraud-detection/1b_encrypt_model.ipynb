{
 "cells": [
  {
   "cell_type": "markdown",
   "metadata": {
    "tags": []
   },
   "source": [
    "# Encrypt the model"
   ]
  },
  {
   "cell_type": "markdown",
   "metadata": {},
   "source": [
    "## Confirm the model file was created successfully\n",
    "\n",
    "This notebook has to be run after the original fraud-detection demo file fraud-detection/1_experiment_train.ipynb has been fully executed. The original fraud-detection is available here: <https://github.com/rh-aiservices-bu/fraud-detection>\n",
    "The output should include the model name, size, and date."
   ]
  },
  {
   "cell_type": "code",
   "execution_count": null,
   "metadata": {},
   "outputs": [],
   "source": [
    "! ls -alRh ../../fraud-detection/models"
   ]
  },
  {
   "cell_type": "markdown",
   "metadata": {},
   "source": [
    "## Encrypt the model\n",
    "\n",
    "Using fenc, a super simple rust program to encrypt/decrypt files, encrypt the model.\n",
    "\n",
    "The key used in this example comes from https://people.redhat.com/eesposit/key.bin, but of course you can use any other key. You can also generate a key with `openssl rand 128 > key.bin`. **This key has to also be loaded into Trustee.**"
   ]
  },
  {
   "cell_type": "code",
   "execution_count": null,
   "metadata": {},
   "outputs": [],
   "source": [
    "! curl -L https://people.redhat.com/eesposit/key.bin -o key.bin"
   ]
  },
  {
   "cell_type": "code",
   "execution_count": null,
   "metadata": {},
   "outputs": [],
   "source": [
    "%%bash\n",
    "MODEL_LOCATION=../../fraud-detection/models/fraud/1\n",
    "MODEL_NAME=model.onnx\n",
    "\n",
    "openssl enc -aes-256-cbc -pbkdf2 -kfile key.bin -in $MODEL_LOCATION/$MODEL_NAME -out $MODEL_LOCATION/$MODEL_NAME.enc"
   ]
  },
  {
   "cell_type": "markdown",
   "metadata": {},
   "source": [
    "## Remove the plaintext model\n",
    "\n",
    "Remove the original plaintext model (model.onnx). We will only upload the encrypted version to the storage."
   ]
  },
  {
   "cell_type": "code",
   "execution_count": null,
   "metadata": {
    "tags": []
   },
   "outputs": [],
   "source": [
    "! rm ../../fraud-detection/models/fraud/1/model.onnx"
   ]
  },
  {
   "cell_type": "code",
   "execution_count": null,
   "metadata": {},
   "outputs": [],
   "source": [
    "! ls -alRh ../../fraud-detection/models"
   ]
  }
 ],
 "metadata": {
  "kernelspec": {
   "display_name": "Python 3.9",
   "language": "python",
   "name": "python3"
  },
  "language_info": {
   "codemirror_mode": {
    "name": "ipython",
    "version": 3
   },
   "file_extension": ".py",
   "mimetype": "text/x-python",
   "name": "python",
   "nbconvert_exporter": "python",
   "pygments_lexer": "ipython3",
   "version": "3.9.18"
  },
  "vscode": {
   "interpreter": {
    "hash": "63462a1f26ab486248b2a0fd058a0d9f9a6566a80083a3e1eb8f35617f2381b2"
   }
  }
 },
 "nbformat": 4,
 "nbformat_minor": 4
}
