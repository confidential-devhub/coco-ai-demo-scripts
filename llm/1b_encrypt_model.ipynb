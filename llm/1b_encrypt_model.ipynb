{
 "cells": [
  {
   "cell_type": "markdown",
   "metadata": {},
   "source": [
    "# Encrypt the model"
   ]
  },
  {
   "cell_type": "markdown",
   "metadata": {
    "tags": []
   },
   "source": [
    "## Confirm the model file was dowloaded successfully\n",
    "\n",
    "The original llm guide is available here: <https://github.com/rh-aiservices-bu/test-drive.git>. The step by step guide is <https://rh-aiservices-bu.github.io/rhoai-rh1-testdrive/modules/llm/index.html>."
   ]
  },
  {
   "cell_type": "code",
   "execution_count": 16,
   "metadata": {},
   "outputs": [],
   "source": [
    "%%bash\n",
    "MODEL_NAME=flan-t5-small\n",
    "echo \"export MODEL_NAME=$MODEL_NAME\" > .model"
   ]
  },
  {
   "cell_type": "code",
   "execution_count": null,
   "metadata": {},
   "outputs": [],
   "source": [
    "%%bash\n",
    "source .model\n",
    "\n",
    "if [ ! -d $MODEL_NAME ]; then\n",
    "    echo \"Model does not exist! Downloading it again...\"\n",
    "    git clone https://huggingface.co/google/$MODEL_NAME\n",
    "else # Saves a bit of time since the operation takes time\n",
    "    echo \"Model has been already downloaded\"\n",
    "fi"
   ]
  },
  {
   "cell_type": "markdown",
   "metadata": {},
   "source": [
    "## Compress the model folder and encrypt it"
   ]
  },
  {
   "cell_type": "markdown",
   "metadata": {},
   "source": [
    "Compress the model folder"
   ]
  },
  {
   "cell_type": "code",
   "execution_count": null,
   "metadata": {},
   "outputs": [],
   "source": [
    "%%bash\n",
    "source .model\n",
    "MODEL_NAME_TAR=$MODEL_NAME.tar.gz\n",
    "echo \"export MODEL_NAME_TAR=$MODEL_NAME_TAR\" >> .model\n",
    "\n",
    "echo \"Zipping the model, will take a while...\"\n",
    "if [ ! -f $MODEL_NAME_TAR ]; then\n",
    "    cd $MODEL_NAME \n",
    "    rm -rf .git\n",
    "    cd - > /dev/null\n",
    "    tar czvf $MODEL_NAME_TAR $MODEL_NAME\n",
    "else # Saves a bit of time since the operation takes time\n",
    "    echo \"Model has been already zipped\"\n",
    "fi\n",
    "echo \"Done!\"\n",
    "\n"
   ]
  },
  {
   "cell_type": "markdown",
   "metadata": {},
   "source": [
    "## Encrypt the model\n",
    "\n",
    "The key used in this example comes from https://people.redhat.com/eesposit/key.bin, but of course you can use any other key. You can also generate a key with `openssl rand 128 > key.bin`. **This key has to also be loaded into Trustee.**"
   ]
  },
  {
   "cell_type": "code",
   "execution_count": null,
   "metadata": {},
   "outputs": [],
   "source": [
    "! curl -L https://people.redhat.com/eesposit/key.bin -o key.bin"
   ]
  },
  {
   "cell_type": "code",
   "execution_count": null,
   "metadata": {},
   "outputs": [],
   "source": [
    "%%bash\n",
    "source .model\n",
    "\n",
    "MODEL_NAME_ENC=$MODEL_NAME_TAR.enc\n",
    "echo \"export MODEL_NAME_ENC=$MODEL_NAME_ENC\" >> .model\n",
    "\n",
    "openssl enc -aes-256-cbc -pbkdf2 -kfile key.bin -in $MODEL_NAME_TAR -out $MODEL_NAME_ENC\n",
    "echo \"Encryption successful\"\n",
    "\n",
    "ls -l $MODEL_NAME_ENC"
   ]
  },
  {
   "cell_type": "markdown",
   "metadata": {},
   "source": [
    "Move the encrypted file into the model folder"
   ]
  },
  {
   "cell_type": "code",
   "execution_count": 15,
   "metadata": {},
   "outputs": [],
   "source": [
    "%%bash\n",
    "source .model\n",
    "\n",
    "MODEL_NAME_ENC_FOLDER=${MODEL_NAME}-enc\n",
    "echo \"export MODEL_NAME_ENC_FOLDER=$MODEL_NAME_ENC_FOLDER\" >> .model\n",
    "\n",
    "mkdir -p $MODEL_NAME_ENC_FOLDER && mv $MODEL_NAME_ENC $MODEL_NAME_ENC_FOLDER"
   ]
  },
  {
   "cell_type": "markdown",
   "metadata": {},
   "source": [
    "Delete unnecessary files"
   ]
  },
  {
   "cell_type": "code",
   "execution_count": 19,
   "metadata": {},
   "outputs": [],
   "source": [
    "%%bash\n",
    "source .model\n",
    "\n",
    "rm -rf $MODEL_NAME_TAR\n",
    "rm -rf $MODEL_NAME\n",
    "rm -rf key.bin"
   ]
  },
  {
   "cell_type": "markdown",
   "metadata": {},
   "source": [
    "## Helper functions for upload\n",
    "\n",
    "Instead of copying code, try to load the same function inside the original workshop, which should be located at `../../test-drive/llm/1_download_save.ipynb`"
   ]
  },
  {
   "cell_type": "code",
   "execution_count": null,
   "metadata": {},
   "outputs": [],
   "source": [
    "! pip install nbimporter"
   ]
  },
  {
   "cell_type": "code",
   "execution_count": null,
   "metadata": {},
   "outputs": [],
   "source": [
    "import nbformat\n",
    "\n",
    "notebook_path = \"../../test-drive/llm/1_download_save.ipynb\"\n",
    "\n",
    "with open(notebook_path) as f:\n",
    "    nb = nbformat.read(f, as_version=4)\n",
    "\n",
    "# Run cell 7 in 1_download_save.ipynb, ie the one under \n",
    "# \"Helper functions for upload\"\n",
    "print(nb['cells'][6]['source'])\n",
    "exec(nb['cells'][6]['source'])"
   ]
  },
  {
   "cell_type": "markdown",
   "metadata": {
    "tags": []
   },
   "source": [
    "## Check the Storage Bucket\n",
    "\n",
    "In your S3 bucket, under the `models` upload prefix, run the `list_object` command. As best practice, to avoid mixing up model files, keep only one model and its required files in a given prefix or directory. This practice allows you to download and serve a directory with all the files that a model requires. \n",
    "\n",
    "If this is the first time running the code, this cell will have no output or the fraud model from the predictive AI/ML exercise.\n"
   ]
  },
  {
   "cell_type": "code",
   "execution_count": null,
   "metadata": {},
   "outputs": [],
   "source": [
    "list_objects(\"models\")"
   ]
  },
  {
   "cell_type": "markdown",
   "metadata": {
    "tags": []
   },
   "source": [
    "## Upload and check again"
   ]
  },
  {
   "cell_type": "markdown",
   "metadata": {},
   "source": [
    "Use the function to upload the `models` folder in a rescursive fashion:"
   ]
  },
  {
   "cell_type": "code",
   "execution_count": null,
   "metadata": {},
   "outputs": [],
   "source": [
    "upload_directory_to_s3(\"flan-t5-small-enc\", \"models/flan-t5-small\")"
   ]
  },
  {
   "cell_type": "markdown",
   "metadata": {
    "tags": []
   },
   "source": [
    "To confirm this worked, run the `list_objects` function again:\n",
    "\n",
    "This time, you should see the encrypted model listed in the directory/prefix: `models/flan-t5-small`\n",
    "\n",
    "```\n",
    "models/flan-t5-small/flan-t5-small.tar.gz.enc\n",
    "```"
   ]
  },
  {
   "cell_type": "code",
   "execution_count": null,
   "metadata": {},
   "outputs": [],
   "source": [
    "list_objects(\"models\")"
   ]
  }
 ],
 "metadata": {
  "celltoolbar": "Raw Cell Format",
  "kernelspec": {
   "display_name": "Python 3.11",
   "language": "python",
   "name": "python3"
  },
  "language_info": {
   "codemirror_mode": {
    "name": "ipython",
    "version": 3
   },
   "file_extension": ".py",
   "mimetype": "text/x-python",
   "name": "python",
   "nbconvert_exporter": "python",
   "pygments_lexer": "ipython3",
   "version": "3.11.7"
  }
 },
 "nbformat": 4,
 "nbformat_minor": 4
}
